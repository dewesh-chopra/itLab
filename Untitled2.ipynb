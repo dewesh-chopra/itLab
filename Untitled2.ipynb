{
 "cells": [
  {
   "cell_type": "code",
   "execution_count": 45,
   "id": "c7b2616d",
   "metadata": {},
   "outputs": [
    {
     "data": {
      "text/plain": [
       "9"
      ]
     },
     "execution_count": 45,
     "metadata": {},
     "output_type": "execute_result"
    }
   ],
   "source": [
    "# ques. no. 1\n",
    "dogs = ['spaniel', 'spitz', 'alsatian', 'doberman', 'rottweiler', 'labrador', 'grayhound', 'great dane', 'kangal']\n",
    "len(dogs)"
   ]
  },
  {
   "cell_type": "code",
   "execution_count": 46,
   "id": "1f055935",
   "metadata": {},
   "outputs": [
    {
     "data": {
      "text/plain": [
       "['spaniel',\n",
       " 'spitz',\n",
       " 'alsatian',\n",
       " 'doberman',\n",
       " 'rottweiler',\n",
       " 'labrador',\n",
       " 'grayhound',\n",
       " 'great dane',\n",
       " 'kangal',\n",
       " 'golden retriever']"
      ]
     },
     "execution_count": 46,
     "metadata": {},
     "output_type": "execute_result"
    }
   ],
   "source": [
    "# ques. no. 2\n",
    "dogs.append('golden retriever')\n",
    "dogs"
   ]
  },
  {
   "cell_type": "code",
   "execution_count": 48,
   "id": "0d511361",
   "metadata": {},
   "outputs": [
    {
     "data": {
      "text/plain": [
       "2"
      ]
     },
     "execution_count": 48,
     "metadata": {},
     "output_type": "execute_result"
    }
   ],
   "source": [
    "# ques. no. 3\n",
    "dogs.index('alsatian')"
   ]
  },
  {
   "cell_type": "code",
   "execution_count": 49,
   "id": "b2e36faa",
   "metadata": {},
   "outputs": [
    {
     "data": {
      "text/plain": [
       "['spaniel',\n",
       " 'spitz',\n",
       " 'alsatian',\n",
       " 'dalmation',\n",
       " 'doberman',\n",
       " 'rottweiler',\n",
       " 'labrador',\n",
       " 'grayhound',\n",
       " 'great dane',\n",
       " 'kangal',\n",
       " 'golden retriever']"
      ]
     },
     "execution_count": 49,
     "metadata": {},
     "output_type": "execute_result"
    }
   ],
   "source": [
    "dogs.insert(3, 'dalmation')\n",
    "dogs"
   ]
  },
  {
   "cell_type": "code",
   "execution_count": 50,
   "id": "feb5e783",
   "metadata": {},
   "outputs": [
    {
     "data": {
      "text/plain": [
       "['spaniel',\n",
       " 'alsatian',\n",
       " 'dalmation',\n",
       " 'doberman',\n",
       " 'rottweiler',\n",
       " 'labrador',\n",
       " 'grayhound',\n",
       " 'great dane',\n",
       " 'kangal',\n",
       " 'golden retriever']"
      ]
     },
     "execution_count": 50,
     "metadata": {},
     "output_type": "execute_result"
    }
   ],
   "source": [
    "# ques. no. 4\n",
    "dogs.remove('spitz')\n",
    "dogs"
   ]
  },
  {
   "cell_type": "code",
   "execution_count": 52,
   "id": "2c869be4",
   "metadata": {},
   "outputs": [
    {
     "data": {
      "text/plain": [
       "4"
      ]
     },
     "execution_count": 52,
     "metadata": {},
     "output_type": "execute_result"
    }
   ],
   "source": [
    "# ques. no. 5\n",
    "dogs.index('rottweiler')"
   ]
  },
  {
   "cell_type": "code",
   "execution_count": 53,
   "id": "dfbc51ca",
   "metadata": {},
   "outputs": [
    {
     "data": {
      "text/plain": [
       "['rottweiler',\n",
       " 'labrador',\n",
       " 'grayhound',\n",
       " 'great dane',\n",
       " 'kangal',\n",
       " 'golden retriever']"
      ]
     },
     "execution_count": 53,
     "metadata": {},
     "output_type": "execute_result"
    }
   ],
   "source": [
    "dogs[4:]"
   ]
  },
  {
   "cell_type": "code",
   "execution_count": 56,
   "id": "2385acd2",
   "metadata": {},
   "outputs": [
    {
     "data": {
      "text/plain": [
       "['spaniel',\n",
       " 'rottweiler',\n",
       " 'labrador',\n",
       " 'kangal',\n",
       " 'great dane',\n",
       " 'grayhound',\n",
       " 'golden retriever',\n",
       " 'doberman',\n",
       " 'dalmation',\n",
       " 'alsatian']"
      ]
     },
     "execution_count": 56,
     "metadata": {},
     "output_type": "execute_result"
    }
   ],
   "source": [
    "# ques. no. 6\n",
    "dogs.sort()\n",
    "dogs.reverse()\n",
    "dogs"
   ]
  },
  {
   "cell_type": "code",
   "execution_count": 57,
   "id": "04fcfdad",
   "metadata": {},
   "outputs": [
    {
     "data": {
      "text/plain": [
       "['spaniel',\n",
       " 'rottweiler',\n",
       " 'labrador',\n",
       " 'kangal',\n",
       " 'great dane',\n",
       " 'grayhound',\n",
       " 'golden retriever',\n",
       " 'spitz',\n",
       " 'doberman',\n",
       " 'dalmation',\n",
       " 'alsatian']"
      ]
     },
     "execution_count": 57,
     "metadata": {},
     "output_type": "execute_result"
    }
   ],
   "source": [
    "# ques. no. 7\n",
    "dogs.insert(7, 'spitz')\n",
    "dogs"
   ]
  },
  {
   "cell_type": "code",
   "execution_count": 58,
   "id": "bdb4b927",
   "metadata": {},
   "outputs": [
    {
     "name": "stdout",
     "output_type": "stream",
     "text": [
      "spaniel : 1\n",
      "rottweiler : 1\n",
      "labrador : 1\n",
      "kangal : 1\n",
      "great dane : 1\n",
      "grayhound : 1\n",
      "golden retriever : 1\n",
      "spitz : 1\n",
      "doberman : 1\n",
      "dalmation : 1\n",
      "alsatian : 1\n"
     ]
    }
   ],
   "source": [
    "# ques. no. 8\n",
    "for dog in dogs:\n",
    "    print(dog, ':', dogs.count(dog))"
   ]
  },
  {
   "cell_type": "code",
   "execution_count": 73,
   "id": "407ca19b",
   "metadata": {},
   "outputs": [
    {
     "data": {
      "text/plain": [
       "[1, 0, 0, 0, 0, 0, 0, 1, 0, 0, 0, 0, 0, 0]"
      ]
     },
     "execution_count": 73,
     "metadata": {},
     "output_type": "execute_result"
    }
   ],
   "source": [
    "# ques. no. 8\n",
    "        \n",
    "new_list = [1 if dog.startswith('s') else 0 for dog in dogs]\n",
    "new_list"
   ]
  },
  {
   "cell_type": "code",
   "execution_count": 63,
   "id": "8fc7ae5f",
   "metadata": {},
   "outputs": [
    {
     "data": {
      "text/plain": [
       "[7, 10, 8, 6, 10, 9, 16, 5, 8, 9, 8]"
      ]
     },
     "execution_count": 63,
     "metadata": {},
     "output_type": "execute_result"
    }
   ],
   "source": [
    "# ques. no. 9\n",
    "len_dogs = []\n",
    "for dog in dogs:\n",
    "    len_dogs.append(len(dog))\n",
    "len_dogs"
   ]
  },
  {
   "cell_type": "code",
   "execution_count": 64,
   "id": "6e8d52b8",
   "metadata": {},
   "outputs": [
    {
     "name": "stdout",
     "output_type": "stream",
     "text": [
      "8.727272727272727\n"
     ]
    }
   ],
   "source": [
    "# ques. no. 10\n",
    "len_total = 0\n",
    "for len_dog in len_dogs:\n",
    "    len_total = len_total + len_dog\n",
    "avg = len_total / len(dogs)\n",
    "print(avg)"
   ]
  },
  {
   "cell_type": "code",
   "execution_count": 67,
   "id": "ef6bc5db",
   "metadata": {},
   "outputs": [
    {
     "data": {
      "text/plain": [
       "['spaniel',\n",
       " 'rottweiler',\n",
       " 'labrador',\n",
       " 'kangal',\n",
       " 'great dane',\n",
       " 'grayhound',\n",
       " 'golden retriever',\n",
       " 'spitz',\n",
       " 'doberman',\n",
       " 'dalmation',\n",
       " 'alsatian',\n",
       " 'dogo argentino',\n",
       " 'chow chow',\n",
       " 'tibetian mastiff']"
      ]
     },
     "execution_count": 67,
     "metadata": {},
     "output_type": "execute_result"
    }
   ],
   "source": [
    "# ques. no. 11\n",
    "more_dogs = ['dogo argentino','chow chow', 'tibetian mastiff']\n",
    "dogs.extend(more_dogs)\n",
    "dogs"
   ]
  },
  {
   "cell_type": "code",
   "execution_count": 90,
   "id": "7cc1e6a8",
   "metadata": {},
   "outputs": [
    {
     "data": {
      "text/plain": [
       "['spaniel',\n",
       " 'grayhound',\n",
       " 'doberman',\n",
       " 'tibetian mastiff',\n",
       " 'labrador',\n",
       " 'great dane',\n",
       " 'dogo argentino',\n",
       " 'spitz',\n",
       " 'golden retriever',\n",
       " 'dalmation',\n",
       " 'kangal',\n",
       " 'chow chow',\n",
       " 'alsatian',\n",
       " 'rottweiler']"
      ]
     },
     "execution_count": 90,
     "metadata": {},
     "output_type": "execute_result"
    }
   ],
   "source": [
    "# ques. no. 12\n",
    "\n",
    "'''def myFunc(x):\n",
    "    return ord(x[2:3])\n",
    "\n",
    "dogs.sort(key = myFunc)\n",
    "dogs'''\n",
    "\n",
    "fx = lambda x: ord(x[2:3])\n",
    "dogs.sort(key = fx)\n",
    "dogs"
   ]
  },
  {
   "cell_type": "code",
   "execution_count": 74,
   "id": "521ea492",
   "metadata": {},
   "outputs": [
    {
     "data": {
      "text/plain": [
       "[('spaniel', 7),\n",
       " ('rottweiler', 0),\n",
       " ('labrador', -6),\n",
       " ('kangal', -1),\n",
       " ('great dane', 2),\n",
       " ('grayhound', 3),\n",
       " ('golden retriever', -11),\n",
       " ('spitz', -7),\n",
       " ('doberman', -10),\n",
       " ('dalmation', -10),\n",
       " ('alsatian', -13),\n",
       " ('dogo argentino', -11),\n",
       " ('chow chow', -20),\n",
       " ('tibetian mastiff', 14)]"
      ]
     },
     "execution_count": 74,
     "metadata": {},
     "output_type": "execute_result"
    }
   ],
   "source": [
    "# ques. no. 13\n",
    "\n",
    "dog_tuple = [(dog, ord(dog[0]) - ord(dog[-1])) for dog in dogs]\n",
    "dog_tuple"
   ]
  },
  {
   "cell_type": "code",
   "execution_count": 85,
   "id": "dba3a0bc",
   "metadata": {},
   "outputs": [
    {
     "data": {
      "text/plain": [
       "[0,\n",
       " 2,\n",
       " 4,\n",
       " 6,\n",
       " 8,\n",
       " 10,\n",
       " 12,\n",
       " 14,\n",
       " 16,\n",
       " 18,\n",
       " 20,\n",
       " 22,\n",
       " 24,\n",
       " 26,\n",
       " 28,\n",
       " 30,\n",
       " 32,\n",
       " 34,\n",
       " 36,\n",
       " 38,\n",
       " 40,\n",
       " 42,\n",
       " 44,\n",
       " 46,\n",
       " 48,\n",
       " 50]"
      ]
     },
     "execution_count": 85,
     "metadata": {},
     "output_type": "execute_result"
    }
   ],
   "source": [
    "# ques. no. 14\n",
    "\n",
    "numbers = [i if i%2 == 0 else 0 for i in range(51)]\n",
    "numbers = numbers[0::2]\n",
    "numbers"
   ]
  },
  {
   "cell_type": "code",
   "execution_count": 86,
   "id": "48968d9c",
   "metadata": {},
   "outputs": [],
   "source": [
    "# ques. no. 15\n",
    "\n"
   ]
  },
  {
   "cell_type": "code",
   "execution_count": 89,
   "id": "a9a7be23",
   "metadata": {},
   "outputs": [
    {
     "name": "stdout",
     "output_type": "stream",
     "text": [
      "The capital of  jharkhand  is  ranchi\n",
      "The capital of  bihar  is  patna\n",
      "The capital of  west bengal  is  kolkata\n",
      "The capital of  odisha  is  bhubaneshwar\n",
      "The capital of  uttar pradesh  is  lucknow\n"
     ]
    },
    {
     "data": {
      "text/plain": [
       "[None, None, None, None, None]"
      ]
     },
     "execution_count": 89,
     "metadata": {},
     "output_type": "execute_result"
    }
   ],
   "source": [
    "states_and_capitals = {'jharkhand': 'ranchi',\n",
    "                      'bihar': 'patna',\n",
    "                      'west bengal': 'kolkata',\n",
    "                      'odisha': 'bhubaneshwar',\n",
    "                      'uttar pradesh': 'lucknow'}\n",
    "[print('The capital of ', this, ' is ', that) for this, that in states_and_capitals.items()]"
   ]
  },
  {
   "cell_type": "code",
   "execution_count": null,
   "id": "ec17021d",
   "metadata": {},
   "outputs": [],
   "source": []
  }
 ],
 "metadata": {
  "kernelspec": {
   "display_name": "Python 3 (ipykernel)",
   "language": "python",
   "name": "python3"
  },
  "language_info": {
   "codemirror_mode": {
    "name": "ipython",
    "version": 3
   },
   "file_extension": ".py",
   "mimetype": "text/x-python",
   "name": "python",
   "nbconvert_exporter": "python",
   "pygments_lexer": "ipython3",
   "version": "3.9.7"
  }
 },
 "nbformat": 4,
 "nbformat_minor": 5
}

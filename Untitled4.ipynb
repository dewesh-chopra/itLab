{
 "cells": [
  {
   "cell_type": "markdown",
   "id": "38716df8",
   "metadata": {},
   "source": [
    "# Assignment sheet 3"
   ]
  },
  {
   "cell_type": "code",
   "execution_count": 1,
   "id": "0499b4ec",
   "metadata": {},
   "outputs": [],
   "source": [
    "# 1\n",
    "\n",
    "import numpy as np\n",
    "\n",
    "arr1 = np.random.randint(1, 100, 10)"
   ]
  },
  {
   "cell_type": "code",
   "execution_count": 2,
   "id": "9d78fd77",
   "metadata": {},
   "outputs": [
    {
     "data": {
      "text/plain": [
       "47.6"
      ]
     },
     "execution_count": 2,
     "metadata": {},
     "output_type": "execute_result"
    }
   ],
   "source": [
    "arr1.mean()"
   ]
  },
  {
   "cell_type": "code",
   "execution_count": 3,
   "id": "a2ab019a",
   "metadata": {},
   "outputs": [
    {
     "data": {
      "text/plain": [
       "30.28597034932181"
      ]
     },
     "execution_count": 3,
     "metadata": {},
     "output_type": "execute_result"
    }
   ],
   "source": [
    "arr1.std()"
   ]
  },
  {
   "cell_type": "code",
   "execution_count": 4,
   "id": "540fd212",
   "metadata": {},
   "outputs": [
    {
     "data": {
      "text/plain": [
       "(10,)"
      ]
     },
     "execution_count": 4,
     "metadata": {},
     "output_type": "execute_result"
    }
   ],
   "source": [
    "arr1.shape"
   ]
  },
  {
   "cell_type": "code",
   "execution_count": 5,
   "id": "f75c0e0e",
   "metadata": {},
   "outputs": [
    {
     "data": {
      "text/plain": [
       "array([[55, 14, 64, 11, 65, 97, 75, 68,  5, 22]])"
      ]
     },
     "execution_count": 5,
     "metadata": {},
     "output_type": "execute_result"
    }
   ],
   "source": [
    "arr1.reshape((1, 10))"
   ]
  },
  {
   "cell_type": "code",
   "execution_count": 6,
   "id": "b6c974f0",
   "metadata": {},
   "outputs": [
    {
     "data": {
      "text/plain": [
       "(10,)"
      ]
     },
     "execution_count": 6,
     "metadata": {},
     "output_type": "execute_result"
    }
   ],
   "source": [
    "arr1.shape"
   ]
  },
  {
   "cell_type": "code",
   "execution_count": 7,
   "id": "1f930a7e",
   "metadata": {},
   "outputs": [],
   "source": [
    "# 2\n",
    "\n",
    "arr1 = [-1 if i < arr1.mean() else i for i in arr1]"
   ]
  },
  {
   "cell_type": "code",
   "execution_count": 8,
   "id": "264522b9",
   "metadata": {},
   "outputs": [
    {
     "data": {
      "text/plain": [
       "[55, -1, 64, -1, 65, 97, 75, 68, -1, -1]"
      ]
     },
     "execution_count": 8,
     "metadata": {},
     "output_type": "execute_result"
    }
   ],
   "source": [
    "arr1"
   ]
  },
  {
   "cell_type": "code",
   "execution_count": 9,
   "id": "ae772683",
   "metadata": {},
   "outputs": [],
   "source": [
    "# 3\n",
    "\n",
    "arr1 = np.random.randint(1, 10, 1000000)"
   ]
  },
  {
   "cell_type": "code",
   "execution_count": 10,
   "id": "11bec761",
   "metadata": {},
   "outputs": [],
   "source": [
    "arr2 = np.random.randint(1, 10, 1000000)"
   ]
  },
  {
   "cell_type": "code",
   "execution_count": 11,
   "id": "f2e56dc2",
   "metadata": {},
   "outputs": [
    {
     "data": {
      "text/plain": [
       "25003230"
      ]
     },
     "execution_count": 11,
     "metadata": {},
     "output_type": "execute_result"
    }
   ],
   "source": [
    "arr1.dot(arr2)"
   ]
  },
  {
   "cell_type": "code",
   "execution_count": 12,
   "id": "04437142",
   "metadata": {},
   "outputs": [],
   "source": [
    "# 4\n",
    "\n",
    "mat1 = np.random.randint(1, 100, (4, 5))"
   ]
  },
  {
   "cell_type": "code",
   "execution_count": 13,
   "id": "6b0183eb",
   "metadata": {},
   "outputs": [
    {
     "data": {
      "text/plain": [
       "array([[58, 32, 81, 71, 67],\n",
       "       [57, 33, 40, 76, 15],\n",
       "       [67, 42, 19, 49, 75],\n",
       "       [48,  1, 77, 57, 50]])"
      ]
     },
     "execution_count": 13,
     "metadata": {},
     "output_type": "execute_result"
    }
   ],
   "source": [
    "mat1"
   ]
  },
  {
   "cell_type": "code",
   "execution_count": 14,
   "id": "5d08f00e",
   "metadata": {},
   "outputs": [
    {
     "data": {
      "text/plain": [
       "array([230, 108, 217, 253, 207])"
      ]
     },
     "execution_count": 14,
     "metadata": {},
     "output_type": "execute_result"
    }
   ],
   "source": [
    "mat1.sum(axis = 0)"
   ]
  },
  {
   "cell_type": "code",
   "execution_count": 15,
   "id": "e65f45eb",
   "metadata": {},
   "outputs": [
    {
     "data": {
      "text/plain": [
       "array([309, 221, 252, 233])"
      ]
     },
     "execution_count": 15,
     "metadata": {},
     "output_type": "execute_result"
    }
   ],
   "source": [
    "mat1.sum(axis = 1)"
   ]
  },
  {
   "cell_type": "code",
   "execution_count": 16,
   "id": "3328da87",
   "metadata": {},
   "outputs": [],
   "source": [
    "# 5\n",
    "\n",
    "col_means = mat1.mean(axis = 0)"
   ]
  },
  {
   "cell_type": "code",
   "execution_count": 17,
   "id": "e0f0e621",
   "metadata": {},
   "outputs": [
    {
     "data": {
      "text/plain": [
       "array([57.5 , 27.  , 54.25, 63.25, 51.75])"
      ]
     },
     "execution_count": 17,
     "metadata": {},
     "output_type": "execute_result"
    }
   ],
   "source": [
    "col_means"
   ]
  },
  {
   "cell_type": "code",
   "execution_count": 18,
   "id": "4338fc6a",
   "metadata": {},
   "outputs": [],
   "source": [
    "mat2 = (mat1 - col_means) / mat1.std()"
   ]
  },
  {
   "cell_type": "code",
   "execution_count": 19,
   "id": "bcbcb635",
   "metadata": {},
   "outputs": [
    {
     "data": {
      "text/plain": [
       "array([[ 0.02290574,  0.22905736,  1.22545687,  0.35503891,  0.69862494],\n",
       "       [-0.02290574,  0.27486883, -0.65281347,  0.58409626, -1.68357159],\n",
       "       [ 0.43520898,  0.68717208, -1.61485438, -0.65281347,  1.06511672],\n",
       "       [-0.43520898, -1.19109826,  1.04221098, -0.2863217 , -0.08017008]])"
      ]
     },
     "execution_count": 19,
     "metadata": {},
     "output_type": "execute_result"
    }
   ],
   "source": [
    "mat2"
   ]
  },
  {
   "cell_type": "code",
   "execution_count": 20,
   "id": "99b9933e",
   "metadata": {},
   "outputs": [],
   "source": [
    "# 6\n",
    "\n",
    "arr3 = np.random.randint(1, 10, 16)\n",
    "arr3[arr3 < (len(arr3) / 2)] = arr3[arr3 < (len(arr3) / 2)]\n",
    "arr3[arr3 > (len(arr3) / 2)] = 16 - arr3[arr3 > (len(arr3) / 2)]"
   ]
  },
  {
   "cell_type": "code",
   "execution_count": 21,
   "id": "e3f2345b",
   "metadata": {},
   "outputs": [
    {
     "data": {
      "text/plain": [
       "array([7, 8, 1, 5, 5, 7, 8, 5, 8, 8, 4, 8, 2, 8, 3, 1])"
      ]
     },
     "execution_count": 21,
     "metadata": {},
     "output_type": "execute_result"
    }
   ],
   "source": [
    "arr3"
   ]
  },
  {
   "cell_type": "code",
   "execution_count": 22,
   "id": "ae7ce255",
   "metadata": {},
   "outputs": [],
   "source": [
    "arr4 = np.random.randint(1, 10, 16)\n",
    "arr4[arr4 < (len(arr4) / 2)] = arr4[arr4 < (len(arr4) / 2)]\n",
    "arr4[arr4 > (len(arr4) / 2)] = 16 - arr4[arr4 > (len(arr4) / 2)]"
   ]
  },
  {
   "cell_type": "code",
   "execution_count": 23,
   "id": "3157d2a1",
   "metadata": {},
   "outputs": [],
   "source": [
    "x = np.square(arr3)\n",
    "y = np.square(arr4)\n",
    "z = x + y"
   ]
  },
  {
   "cell_type": "code",
   "execution_count": 24,
   "id": "92e1777b",
   "metadata": {},
   "outputs": [
    {
     "data": {
      "text/plain": [
       "array([ 74,  65,   2,  89,  74,  98, 113,  26, 113,  89,  52, 113,  68,\n",
       "        65,  58,  50], dtype=int32)"
      ]
     },
     "execution_count": 24,
     "metadata": {},
     "output_type": "execute_result"
    }
   ],
   "source": [
    "z"
   ]
  },
  {
   "cell_type": "code",
   "execution_count": 25,
   "id": "4b1e4853",
   "metadata": {},
   "outputs": [],
   "source": [
    "# 8\n",
    "\n",
    "iris = np.genfromtxt(\"C:\\\\Users\\\\BIT.L1-057\\\\Desktop\\\\iris.numeric\", delimiter = \",\")"
   ]
  },
  {
   "cell_type": "code",
   "execution_count": 26,
   "id": "26d84956",
   "metadata": {},
   "outputs": [
    {
     "data": {
      "text/plain": [
       "array([[5.1, 3.5, 1.4, 0.2, 1. ],\n",
       "       [4.9, 3. , 1.4, 0.2, 1. ],\n",
       "       [4.7, 3.2, 1.3, 0.2, 1. ],\n",
       "       [4.6, 3.1, 1.5, 0.2, 1. ],\n",
       "       [5. , 3.6, 1.4, 0.2, 1. ],\n",
       "       [5.4, 3.9, 1.7, 0.4, 1. ],\n",
       "       [4.6, 3.4, 1.4, 0.3, 1. ],\n",
       "       [5. , 3.4, 1.5, 0.2, 1. ],\n",
       "       [4.4, 2.9, 1.4, 0.2, 1. ],\n",
       "       [4.9, 3.1, 1.5, 0.1, 1. ],\n",
       "       [5.4, 3.7, 1.5, 0.2, 1. ],\n",
       "       [4.8, 3.4, 1.6, 0.2, 1. ],\n",
       "       [4.8, 3. , 1.4, 0.1, 1. ],\n",
       "       [4.3, 3. , 1.1, 0.1, 1. ],\n",
       "       [5.8, 4. , 1.2, 0.2, 1. ],\n",
       "       [5.7, 4.4, 1.5, 0.4, 1. ],\n",
       "       [5.4, 3.9, 1.3, 0.4, 1. ],\n",
       "       [5.1, 3.5, 1.4, 0.3, 1. ],\n",
       "       [5.7, 3.8, 1.7, 0.3, 1. ],\n",
       "       [5.1, 3.8, 1.5, 0.3, 1. ],\n",
       "       [5.4, 3.4, 1.7, 0.2, 1. ],\n",
       "       [5.1, 3.7, 1.5, 0.4, 1. ],\n",
       "       [4.6, 3.6, 1. , 0.2, 1. ],\n",
       "       [5.1, 3.3, 1.7, 0.5, 1. ],\n",
       "       [4.8, 3.4, 1.9, 0.2, 1. ],\n",
       "       [5. , 3. , 1.6, 0.2, 1. ],\n",
       "       [5. , 3.4, 1.6, 0.4, 1. ],\n",
       "       [5.2, 3.5, 1.5, 0.2, 1. ],\n",
       "       [5.2, 3.4, 1.4, 0.2, 1. ],\n",
       "       [4.7, 3.2, 1.6, 0.2, 1. ],\n",
       "       [4.8, 3.1, 1.6, 0.2, 1. ],\n",
       "       [5.4, 3.4, 1.5, 0.4, 1. ],\n",
       "       [5.2, 4.1, 1.5, 0.1, 1. ],\n",
       "       [5.5, 4.2, 1.4, 0.2, 1. ],\n",
       "       [4.9, 3.1, 1.5, 0.1, 1. ],\n",
       "       [5. , 3.2, 1.2, 0.2, 1. ],\n",
       "       [5.5, 3.5, 1.3, 0.2, 1. ],\n",
       "       [4.9, 3.1, 1.5, 0.1, 1. ],\n",
       "       [4.4, 3. , 1.3, 0.2, 1. ],\n",
       "       [5.1, 3.4, 1.5, 0.2, 1. ],\n",
       "       [5. , 3.5, 1.3, 0.3, 1. ],\n",
       "       [4.5, 2.3, 1.3, 0.3, 1. ],\n",
       "       [4.4, 3.2, 1.3, 0.2, 1. ],\n",
       "       [5. , 3.5, 1.6, 0.6, 1. ],\n",
       "       [5.1, 3.8, 1.9, 0.4, 1. ],\n",
       "       [4.8, 3. , 1.4, 0.3, 1. ],\n",
       "       [5.1, 3.8, 1.6, 0.2, 1. ],\n",
       "       [4.6, 3.2, 1.4, 0.2, 1. ],\n",
       "       [5.3, 3.7, 1.5, 0.2, 1. ],\n",
       "       [5. , 3.3, 1.4, 0.2, 1. ],\n",
       "       [7. , 3.2, 4.7, 1.4, 2. ],\n",
       "       [6.4, 3.2, 4.5, 1.5, 2. ],\n",
       "       [6.9, 3.1, 4.9, 1.5, 2. ],\n",
       "       [5.5, 2.3, 4. , 1.3, 2. ],\n",
       "       [6.5, 2.8, 4.6, 1.5, 2. ],\n",
       "       [5.7, 2.8, 4.5, 1.3, 2. ],\n",
       "       [6.3, 3.3, 4.7, 1.6, 2. ],\n",
       "       [4.9, 2.4, 3.3, 1. , 2. ],\n",
       "       [6.6, 2.9, 4.6, 1.3, 2. ],\n",
       "       [5.2, 2.7, 3.9, 1.4, 2. ],\n",
       "       [5. , 2. , 3.5, 1. , 2. ],\n",
       "       [5.9, 3. , 4.2, 1.5, 2. ],\n",
       "       [6. , 2.2, 4. , 1. , 2. ],\n",
       "       [6.1, 2.9, 4.7, 1.4, 2. ],\n",
       "       [5.6, 2.9, 3.6, 1.3, 2. ],\n",
       "       [6.7, 3.1, 4.4, 1.4, 2. ],\n",
       "       [5.6, 3. , 4.5, 1.5, 2. ],\n",
       "       [5.8, 2.7, 4.1, 1. , 2. ],\n",
       "       [6.2, 2.2, 4.5, 1.5, 2. ],\n",
       "       [5.6, 2.5, 3.9, 1.1, 2. ],\n",
       "       [5.9, 3.2, 4.8, 1.8, 2. ],\n",
       "       [6.1, 2.8, 4. , 1.3, 2. ],\n",
       "       [6.3, 2.5, 4.9, 1.5, 2. ],\n",
       "       [6.1, 2.8, 4.7, 1.2, 2. ],\n",
       "       [6.4, 2.9, 4.3, 1.3, 2. ],\n",
       "       [6.6, 3. , 4.4, 1.4, 2. ],\n",
       "       [6.8, 2.8, 4.8, 1.4, 2. ],\n",
       "       [6.7, 3. , 5. , 1.7, 2. ],\n",
       "       [6. , 2.9, 4.5, 1.5, 2. ],\n",
       "       [5.7, 2.6, 3.5, 1. , 2. ],\n",
       "       [5.5, 2.4, 3.8, 1.1, 2. ],\n",
       "       [5.5, 2.4, 3.7, 1. , 2. ],\n",
       "       [5.8, 2.7, 3.9, 1.2, 2. ],\n",
       "       [6. , 2.7, 5.1, 1.6, 2. ],\n",
       "       [5.4, 3. , 4.5, 1.5, 2. ],\n",
       "       [6. , 3.4, 4.5, 1.6, 2. ],\n",
       "       [6.7, 3.1, 4.7, 1.5, 2. ],\n",
       "       [6.3, 2.3, 4.4, 1.3, 2. ],\n",
       "       [5.6, 3. , 4.1, 1.3, 2. ],\n",
       "       [5.5, 2.5, 4. , 1.3, 2. ],\n",
       "       [5.5, 2.6, 4.4, 1.2, 2. ],\n",
       "       [6.1, 3. , 4.6, 1.4, 2. ],\n",
       "       [5.8, 2.6, 4. , 1.2, 2. ],\n",
       "       [5. , 2.3, 3.3, 1. , 2. ],\n",
       "       [5.6, 2.7, 4.2, 1.3, 2. ],\n",
       "       [5.7, 3. , 4.2, 1.2, 2. ],\n",
       "       [5.7, 2.9, 4.2, 1.3, 2. ],\n",
       "       [6.2, 2.9, 4.3, 1.3, 2. ],\n",
       "       [5.1, 2.5, 3. , 1.1, 2. ],\n",
       "       [5.7, 2.8, 4.1, 1.3, 2. ],\n",
       "       [6.3, 3.3, 6. , 2.5, 3. ],\n",
       "       [5.8, 2.7, 5.1, 1.9, 3. ],\n",
       "       [7.1, 3. , 5.9, 2.1, 3. ],\n",
       "       [6.3, 2.9, 5.6, 1.8, 3. ],\n",
       "       [6.5, 3. , 5.8, 2.2, 3. ],\n",
       "       [7.6, 3. , 6.6, 2.1, 3. ],\n",
       "       [4.9, 2.5, 4.5, 1.7, 3. ],\n",
       "       [7.3, 2.9, 6.3, 1.8, 3. ],\n",
       "       [6.7, 2.5, 5.8, 1.8, 3. ],\n",
       "       [7.2, 3.6, 6.1, 2.5, 3. ],\n",
       "       [6.5, 3.2, 5.1, 2. , 3. ],\n",
       "       [6.4, 2.7, 5.3, 1.9, 3. ],\n",
       "       [6.8, 3. , 5.5, 2.1, 3. ],\n",
       "       [5.7, 2.5, 5. , 2. , 3. ],\n",
       "       [5.8, 2.8, 5.1, 2.4, 3. ],\n",
       "       [6.4, 3.2, 5.3, 2.3, 3. ],\n",
       "       [6.5, 3. , 5.5, 1.8, 3. ],\n",
       "       [7.7, 3.8, 6.7, 2.2, 3. ],\n",
       "       [7.7, 2.6, 6.9, 2.3, 3. ],\n",
       "       [6. , 2.2, 5. , 1.5, 3. ],\n",
       "       [6.9, 3.2, 5.7, 2.3, 3. ],\n",
       "       [5.6, 2.8, 4.9, 2. , 3. ],\n",
       "       [7.7, 2.8, 6.7, 2. , 3. ],\n",
       "       [6.3, 2.7, 4.9, 1.8, 3. ],\n",
       "       [6.7, 3.3, 5.7, 2.1, 3. ],\n",
       "       [7.2, 3.2, 6. , 1.8, 3. ],\n",
       "       [6.2, 2.8, 4.8, 1.8, 3. ],\n",
       "       [6.1, 3. , 4.9, 1.8, 3. ],\n",
       "       [6.4, 2.8, 5.6, 2.1, 3. ],\n",
       "       [7.2, 3. , 5.8, 1.6, 3. ],\n",
       "       [7.4, 2.8, 6.1, 1.9, 3. ],\n",
       "       [7.9, 3.8, 6.4, 2. , 3. ],\n",
       "       [6.4, 2.8, 5.6, 2.2, 3. ],\n",
       "       [6.3, 2.8, 5.1, 1.5, 3. ],\n",
       "       [6.1, 2.6, 5.6, 1.4, 3. ],\n",
       "       [7.7, 3. , 6.1, 2.3, 3. ],\n",
       "       [6.3, 3.4, 5.6, 2.4, 3. ],\n",
       "       [6.4, 3.1, 5.5, 1.8, 3. ],\n",
       "       [6. , 3. , 4.8, 1.8, 3. ],\n",
       "       [6.9, 3.1, 5.4, 2.1, 3. ],\n",
       "       [6.7, 3.1, 5.6, 2.4, 3. ],\n",
       "       [6.9, 3.1, 5.1, 2.3, 3. ],\n",
       "       [5.8, 2.7, 5.1, 1.9, 3. ],\n",
       "       [6.8, 3.2, 5.9, 2.3, 3. ],\n",
       "       [6.7, 3.3, 5.7, 2.5, 3. ],\n",
       "       [6.7, 3. , 5.2, 2.3, 3. ],\n",
       "       [6.3, 2.5, 5. , 1.9, 3. ],\n",
       "       [6.5, 3. , 5.2, 2. , 3. ],\n",
       "       [6.2, 3.4, 5.4, 2.3, 3. ],\n",
       "       [5.9, 3. , 5.1, 1.8, 3. ]])"
      ]
     },
     "execution_count": 26,
     "metadata": {},
     "output_type": "execute_result"
    }
   ],
   "source": [
    "iris"
   ]
  },
  {
   "cell_type": "code",
   "execution_count": 27,
   "id": "6dcb5322",
   "metadata": {},
   "outputs": [],
   "source": [
    "mat2 = (iris[3] - iris[2]) * (iris[3] - iris[2]) + (iris[1] - iris[0]) - (iris[1] - iris[0])"
   ]
  },
  {
   "cell_type": "code",
   "execution_count": 28,
   "id": "4ebcce5f",
   "metadata": {},
   "outputs": [
    {
     "data": {
      "text/plain": [
       "array([0.01, 0.01, 0.04, 0.  , 0.  ])"
      ]
     },
     "execution_count": 28,
     "metadata": {},
     "output_type": "execute_result"
    }
   ],
   "source": [
    "mat2"
   ]
  },
  {
   "cell_type": "code",
   "execution_count": 29,
   "id": "1faac5d3",
   "metadata": {},
   "outputs": [],
   "source": [
    "# 9\n",
    "\n"
   ]
  },
  {
   "cell_type": "code",
   "execution_count": 30,
   "id": "987cd82b",
   "metadata": {},
   "outputs": [],
   "source": [
    "# 1\n",
    "\n",
    "import pandas as pd\n",
    "\n",
    "housing = pd.read_csv(\"C:\\\\Users\\\\BIT.L1-057\\\\Desktop\\\\housing.csv\", header = 0, delimiter = \",\")"
   ]
  },
  {
   "cell_type": "code",
   "execution_count": 31,
   "id": "7401a833",
   "metadata": {},
   "outputs": [
    {
     "data": {
      "text/html": [
       "<div>\n",
       "<style scoped>\n",
       "    .dataframe tbody tr th:only-of-type {\n",
       "        vertical-align: middle;\n",
       "    }\n",
       "\n",
       "    .dataframe tbody tr th {\n",
       "        vertical-align: top;\n",
       "    }\n",
       "\n",
       "    .dataframe thead th {\n",
       "        text-align: right;\n",
       "    }\n",
       "</style>\n",
       "<table border=\"1\" class=\"dataframe\">\n",
       "  <thead>\n",
       "    <tr style=\"text-align: right;\">\n",
       "      <th></th>\n",
       "      <th>longitude</th>\n",
       "      <th>latitude</th>\n",
       "      <th>housing_median_age</th>\n",
       "      <th>total_rooms</th>\n",
       "      <th>total_bedrooms</th>\n",
       "      <th>population</th>\n",
       "      <th>households</th>\n",
       "      <th>median_income</th>\n",
       "      <th>median_house_value</th>\n",
       "      <th>ocean_proximity</th>\n",
       "    </tr>\n",
       "  </thead>\n",
       "  <tbody>\n",
       "    <tr>\n",
       "      <th>0</th>\n",
       "      <td>-122.23</td>\n",
       "      <td>37.88</td>\n",
       "      <td>41.0</td>\n",
       "      <td>880.0</td>\n",
       "      <td>129.0</td>\n",
       "      <td>322.0</td>\n",
       "      <td>126.0</td>\n",
       "      <td>8.3252</td>\n",
       "      <td>452600.0</td>\n",
       "      <td>NEAR BAY</td>\n",
       "    </tr>\n",
       "    <tr>\n",
       "      <th>1</th>\n",
       "      <td>-122.22</td>\n",
       "      <td>37.86</td>\n",
       "      <td>21.0</td>\n",
       "      <td>7099.0</td>\n",
       "      <td>1106.0</td>\n",
       "      <td>2401.0</td>\n",
       "      <td>1138.0</td>\n",
       "      <td>8.3014</td>\n",
       "      <td>358500.0</td>\n",
       "      <td>NEAR BAY</td>\n",
       "    </tr>\n",
       "    <tr>\n",
       "      <th>2</th>\n",
       "      <td>-122.24</td>\n",
       "      <td>37.85</td>\n",
       "      <td>52.0</td>\n",
       "      <td>1467.0</td>\n",
       "      <td>190.0</td>\n",
       "      <td>496.0</td>\n",
       "      <td>177.0</td>\n",
       "      <td>7.2574</td>\n",
       "      <td>352100.0</td>\n",
       "      <td>NEAR BAY</td>\n",
       "    </tr>\n",
       "    <tr>\n",
       "      <th>3</th>\n",
       "      <td>-122.25</td>\n",
       "      <td>37.85</td>\n",
       "      <td>52.0</td>\n",
       "      <td>1274.0</td>\n",
       "      <td>235.0</td>\n",
       "      <td>558.0</td>\n",
       "      <td>219.0</td>\n",
       "      <td>5.6431</td>\n",
       "      <td>341300.0</td>\n",
       "      <td>NEAR BAY</td>\n",
       "    </tr>\n",
       "    <tr>\n",
       "      <th>4</th>\n",
       "      <td>-122.25</td>\n",
       "      <td>37.85</td>\n",
       "      <td>52.0</td>\n",
       "      <td>1627.0</td>\n",
       "      <td>280.0</td>\n",
       "      <td>565.0</td>\n",
       "      <td>259.0</td>\n",
       "      <td>3.8462</td>\n",
       "      <td>342200.0</td>\n",
       "      <td>NEAR BAY</td>\n",
       "    </tr>\n",
       "    <tr>\n",
       "      <th>...</th>\n",
       "      <td>...</td>\n",
       "      <td>...</td>\n",
       "      <td>...</td>\n",
       "      <td>...</td>\n",
       "      <td>...</td>\n",
       "      <td>...</td>\n",
       "      <td>...</td>\n",
       "      <td>...</td>\n",
       "      <td>...</td>\n",
       "      <td>...</td>\n",
       "    </tr>\n",
       "    <tr>\n",
       "      <th>20635</th>\n",
       "      <td>-121.09</td>\n",
       "      <td>39.48</td>\n",
       "      <td>25.0</td>\n",
       "      <td>1665.0</td>\n",
       "      <td>374.0</td>\n",
       "      <td>845.0</td>\n",
       "      <td>330.0</td>\n",
       "      <td>1.5603</td>\n",
       "      <td>78100.0</td>\n",
       "      <td>INLAND</td>\n",
       "    </tr>\n",
       "    <tr>\n",
       "      <th>20636</th>\n",
       "      <td>-121.21</td>\n",
       "      <td>39.49</td>\n",
       "      <td>18.0</td>\n",
       "      <td>697.0</td>\n",
       "      <td>150.0</td>\n",
       "      <td>356.0</td>\n",
       "      <td>114.0</td>\n",
       "      <td>2.5568</td>\n",
       "      <td>77100.0</td>\n",
       "      <td>INLAND</td>\n",
       "    </tr>\n",
       "    <tr>\n",
       "      <th>20637</th>\n",
       "      <td>-121.22</td>\n",
       "      <td>39.43</td>\n",
       "      <td>17.0</td>\n",
       "      <td>2254.0</td>\n",
       "      <td>485.0</td>\n",
       "      <td>1007.0</td>\n",
       "      <td>433.0</td>\n",
       "      <td>1.7000</td>\n",
       "      <td>92300.0</td>\n",
       "      <td>INLAND</td>\n",
       "    </tr>\n",
       "    <tr>\n",
       "      <th>20638</th>\n",
       "      <td>-121.32</td>\n",
       "      <td>39.43</td>\n",
       "      <td>18.0</td>\n",
       "      <td>1860.0</td>\n",
       "      <td>409.0</td>\n",
       "      <td>741.0</td>\n",
       "      <td>349.0</td>\n",
       "      <td>1.8672</td>\n",
       "      <td>84700.0</td>\n",
       "      <td>INLAND</td>\n",
       "    </tr>\n",
       "    <tr>\n",
       "      <th>20639</th>\n",
       "      <td>-121.24</td>\n",
       "      <td>39.37</td>\n",
       "      <td>16.0</td>\n",
       "      <td>2785.0</td>\n",
       "      <td>616.0</td>\n",
       "      <td>1387.0</td>\n",
       "      <td>530.0</td>\n",
       "      <td>2.3886</td>\n",
       "      <td>89400.0</td>\n",
       "      <td>INLAND</td>\n",
       "    </tr>\n",
       "  </tbody>\n",
       "</table>\n",
       "<p>20640 rows × 10 columns</p>\n",
       "</div>"
      ],
      "text/plain": [
       "       longitude  latitude  housing_median_age  total_rooms  total_bedrooms  \\\n",
       "0        -122.23     37.88                41.0        880.0           129.0   \n",
       "1        -122.22     37.86                21.0       7099.0          1106.0   \n",
       "2        -122.24     37.85                52.0       1467.0           190.0   \n",
       "3        -122.25     37.85                52.0       1274.0           235.0   \n",
       "4        -122.25     37.85                52.0       1627.0           280.0   \n",
       "...          ...       ...                 ...          ...             ...   \n",
       "20635    -121.09     39.48                25.0       1665.0           374.0   \n",
       "20636    -121.21     39.49                18.0        697.0           150.0   \n",
       "20637    -121.22     39.43                17.0       2254.0           485.0   \n",
       "20638    -121.32     39.43                18.0       1860.0           409.0   \n",
       "20639    -121.24     39.37                16.0       2785.0           616.0   \n",
       "\n",
       "       population  households  median_income  median_house_value  \\\n",
       "0           322.0       126.0         8.3252            452600.0   \n",
       "1          2401.0      1138.0         8.3014            358500.0   \n",
       "2           496.0       177.0         7.2574            352100.0   \n",
       "3           558.0       219.0         5.6431            341300.0   \n",
       "4           565.0       259.0         3.8462            342200.0   \n",
       "...           ...         ...            ...                 ...   \n",
       "20635       845.0       330.0         1.5603             78100.0   \n",
       "20636       356.0       114.0         2.5568             77100.0   \n",
       "20637      1007.0       433.0         1.7000             92300.0   \n",
       "20638       741.0       349.0         1.8672             84700.0   \n",
       "20639      1387.0       530.0         2.3886             89400.0   \n",
       "\n",
       "      ocean_proximity  \n",
       "0            NEAR BAY  \n",
       "1            NEAR BAY  \n",
       "2            NEAR BAY  \n",
       "3            NEAR BAY  \n",
       "4            NEAR BAY  \n",
       "...               ...  \n",
       "20635          INLAND  \n",
       "20636          INLAND  \n",
       "20637          INLAND  \n",
       "20638          INLAND  \n",
       "20639          INLAND  \n",
       "\n",
       "[20640 rows x 10 columns]"
      ]
     },
     "execution_count": 31,
     "metadata": {},
     "output_type": "execute_result"
    }
   ],
   "source": [
    "housing"
   ]
  },
  {
   "cell_type": "code",
   "execution_count": 32,
   "id": "40d396f5",
   "metadata": {},
   "outputs": [
    {
     "data": {
      "text/plain": [
       "longitude             20640\n",
       "latitude              20640\n",
       "housing_median_age    20640\n",
       "total_rooms           20640\n",
       "total_bedrooms        20433\n",
       "population            20640\n",
       "households            20640\n",
       "median_income         20640\n",
       "median_house_value    20640\n",
       "ocean_proximity       20640\n",
       "dtype: int64"
      ]
     },
     "execution_count": 32,
     "metadata": {},
     "output_type": "execute_result"
    }
   ],
   "source": [
    "housing.count()"
   ]
  },
  {
   "cell_type": "code",
   "execution_count": null,
   "id": "6bd8daa2",
   "metadata": {},
   "outputs": [],
   "source": []
  }
 ],
 "metadata": {
  "kernelspec": {
   "display_name": "Python 3 (ipykernel)",
   "language": "python",
   "name": "python3"
  },
  "language_info": {
   "codemirror_mode": {
    "name": "ipython",
    "version": 3
   },
   "file_extension": ".py",
   "mimetype": "text/x-python",
   "name": "python",
   "nbconvert_exporter": "python",
   "pygments_lexer": "ipython3",
   "version": "3.9.7"
  }
 },
 "nbformat": 4,
 "nbformat_minor": 5
}

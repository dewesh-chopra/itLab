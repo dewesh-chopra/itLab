{
 "cells": [
  {
   "cell_type": "code",
   "execution_count": 1,
   "id": "e0732b4d",
   "metadata": {},
   "outputs": [
    {
     "name": "stdout",
     "output_type": "stream",
     "text": [
      "Enter temperature in fahrenheit: 114\n",
      "The coressponding temperature in celcius is 45.55555555555556\n"
     ]
    }
   ],
   "source": [
    "# Program no. 1\n",
    "\n",
    "tempF = float(input(\"Enter temperature in fahrenheit: \"))\n",
    "tempC = (tempF-32)/180*100\n",
    "\n",
    "print(f\"The coressponding temperature in celcius is {tempC}\")"
   ]
  },
  {
   "cell_type": "code",
   "execution_count": 9,
   "id": "2f90d73c",
   "metadata": {},
   "outputs": [
    {
     "name": "stdout",
     "output_type": "stream",
     "text": [
      "Enter something: malayalam\n",
      "Not a palindrome\n"
     ]
    }
   ],
   "source": [
    "# Program no. 2\n",
    "\n",
    "str1 = input(\"Enter something: \")\n",
    "str2 = reversed(str1)\n",
    "\n",
    "if str1 == str2:\n",
    "    print(\"Palindrome\")\n",
    "else:\n",
    "    print(\"Not a palindrome\")"
   ]
  },
  {
   "cell_type": "code",
   "execution_count": 3,
   "id": "2e10d046",
   "metadata": {},
   "outputs": [
    {
     "name": "stdout",
     "output_type": "stream",
     "text": [
      "Enter principal amount: 1000\n",
      "Enter prate of intrest: 10\n",
      "Enter time duration in years: 2\n",
      "Total intrest to be paid anually is 1210.0000000000002\n"
     ]
    }
   ],
   "source": [
    "# Program no. 3\n",
    "\n",
    "import math\n",
    "\n",
    "p = float(input(\"Enter principal amount: \"))\n",
    "r = float(input(\"Enter prate of intrest: \"))\n",
    "t = float(input(\"Enter time duration in years: \"))\n",
    "\n",
    "ci = p*math.pow(1+r/100, t)\n",
    "\n",
    "print(f\"Total intrest to be paid anually is {ci}\")"
   ]
  },
  {
   "cell_type": "code",
   "execution_count": 4,
   "id": "00d1ceef",
   "metadata": {},
   "outputs": [
    {
     "name": "stdout",
     "output_type": "stream",
     "text": [
      "Enter your full name: Dewesh Chopra\n"
     ]
    },
    {
     "ename": "TypeError",
     "evalue": "unsupported operand type(s) for -: 'builtin_function_or_method' and 'int'",
     "output_type": "error",
     "traceback": [
      "\u001b[1;31m---------------------------------------------------------------------------\u001b[0m",
      "\u001b[1;31mTypeError\u001b[0m                                 Traceback (most recent call last)",
      "\u001b[1;32mC:\\Users\\BIT~1.L1-\\AppData\\Local\\Temp/ipykernel_4944/96308182.py\u001b[0m in \u001b[0;36m<module>\u001b[1;34m\u001b[0m\n\u001b[0;32m     13\u001b[0m     \u001b[0mtimes\u001b[0m \u001b[1;33m=\u001b[0m \u001b[0mtimes\u001b[0m \u001b[1;33m-\u001b[0m \u001b[1;36m1\u001b[0m\u001b[1;33m\u001b[0m\u001b[1;33m\u001b[0m\u001b[0m\n\u001b[0;32m     14\u001b[0m \u001b[1;33m\u001b[0m\u001b[0m\n\u001b[1;32m---> 15\u001b[1;33m \u001b[0mshortName\u001b[0m \u001b[1;33m=\u001b[0m \u001b[0mnameList\u001b[0m\u001b[1;33m[\u001b[0m\u001b[0mlen\u001b[0m \u001b[1;33m-\u001b[0m \u001b[1;36m1\u001b[0m\u001b[1;33m]\u001b[0m\u001b[1;33m\u001b[0m\u001b[1;33m\u001b[0m\u001b[0m\n\u001b[0m\u001b[0;32m     16\u001b[0m \u001b[0mprint\u001b[0m\u001b[1;33m(\u001b[0m\u001b[0mshortName\u001b[0m\u001b[1;33m)\u001b[0m\u001b[1;33m\u001b[0m\u001b[1;33m\u001b[0m\u001b[0m\n",
      "\u001b[1;31mTypeError\u001b[0m: unsupported operand type(s) for -: 'builtin_function_or_method' and 'int'"
     ]
    }
   ],
   "source": [
    "# Program no. 4\n",
    "\n",
    "name = input(\"Enter your full name: \")\n",
    "nameList = name.split(\" \")\n",
    "\n",
    "times = len(nameList)\n",
    "i = 0\n",
    "shortName = \"\"\n",
    "\n",
    "while  times>0:\n",
    "    shortName = shortName + nameList[i][0] + \".\"\n",
    "    i = i+1\n",
    "    times = times - 1\n",
    "    \n",
    "shortName = nameList[len - 1]\n",
    "print(shortName)"
   ]
  },
  {
   "cell_type": "code",
   "execution_count": null,
   "id": "207a1f97",
   "metadata": {},
   "outputs": [],
   "source": [
    "# Program no. 5\n",
    "\n"
   ]
  },
  {
   "cell_type": "code",
   "execution_count": null,
   "id": "5ea67d78",
   "metadata": {},
   "outputs": [],
   "source": [
    "# Program no. 6\n",
    "\n",
    "def isPrime(num):\n",
    "    for i in range(2, int(num/2)):\n",
    "        if num%i == 0:\n",
    "            return False\n",
    "        else:\n",
    "            return True\n",
    "\n",
    "import math\n",
    "\n",
    "totalPrimes = 0\n",
    "\n",
    "for i in range(1000, 9999):\n",
    "    if isPrime(i):\n",
    "        totalPrimes = totalPrimes+1\n",
    "\n",
    "ratioOfPrimes = totalPrimes/10000\n",
    "        \n",
    "print(f\"Probability of a prime number among all 4 digit numbers is {ratioOfPrimes}\")"
   ]
  },
  {
   "cell_type": "code",
   "execution_count": null,
   "id": "1f86da17",
   "metadata": {},
   "outputs": [],
   "source": [
    "# Program no. 7"
   ]
  },
  {
   "cell_type": "code",
   "execution_count": null,
   "id": "4775424f",
   "metadata": {},
   "outputs": [],
   "source": [
    "# Program no. 8\n",
    "\n",
    "def hcf(a, b):\n",
    "    if(b == 0):\n",
    "        return a\n",
    "    else:\n",
    "        return hcf(b, a % b)\n",
    "  \n",
    "a = 60\n",
    "b = 48\n",
    "  \n",
    "# prints 12\n",
    "print(f\"The gcd of 60 and 48 is : {hcf(60, 48)}\")"
   ]
  },
  {
   "cell_type": "code",
   "execution_count": null,
   "id": "6a1cbe55",
   "metadata": {},
   "outputs": [],
   "source": [
    "# Program no. 9"
   ]
  },
  {
   "cell_type": "code",
   "execution_count": null,
   "id": "a14a1620",
   "metadata": {},
   "outputs": [],
   "source": [
    "# Program no. 10"
   ]
  },
  {
   "cell_type": "code",
   "execution_count": null,
   "id": "46d13c4a",
   "metadata": {},
   "outputs": [],
   "source": [
    "# Program no. 11\n",
    "\n",
    "names = ['Rachel', 'Mike', 'alex', 'Steve', 'Cassandra']\n",
    "\n",
    "for name in"
   ]
  },
  {
   "cell_type": "code",
   "execution_count": null,
   "id": "1a8efba9",
   "metadata": {},
   "outputs": [],
   "source": [
    "# Program no. 12"
   ]
  }
 ],
 "metadata": {
  "kernelspec": {
   "display_name": "Python 3 (ipykernel)",
   "language": "python",
   "name": "python3"
  },
  "language_info": {
   "codemirror_mode": {
    "name": "ipython",
    "version": 3
   },
   "file_extension": ".py",
   "mimetype": "text/x-python",
   "name": "python",
   "nbconvert_exporter": "python",
   "pygments_lexer": "ipython3",
   "version": "3.9.7"
  }
 },
 "nbformat": 4,
 "nbformat_minor": 5
}

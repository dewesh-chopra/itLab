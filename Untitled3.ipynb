{
 "cells": [
  {
   "cell_type": "markdown",
   "id": "a8479174",
   "metadata": {},
   "source": [
    "## Learning numpy"
   ]
  },
  {
   "cell_type": "code",
   "execution_count": 1,
   "id": "a15a3f61",
   "metadata": {},
   "outputs": [
    {
     "data": {
      "text/plain": [
       "numpy.ndarray"
      ]
     },
     "execution_count": 1,
     "metadata": {},
     "output_type": "execute_result"
    }
   ],
   "source": [
    "'''\n",
    "numpy works on the concept of vectorization\n",
    "operations are point to point\n",
    "'''\n",
    "\n",
    "import numpy as np\n",
    "\n",
    "arr = np.array([1, 2, 3, 4, 5])\n",
    "type(arr)"
   ]
  },
  {
   "cell_type": "code",
   "execution_count": 3,
   "id": "d5530297",
   "metadata": {},
   "outputs": [
    {
     "data": {
      "text/plain": [
       "array([1., 2., 3., 4., 5.])"
      ]
     },
     "execution_count": 3,
     "metadata": {},
     "output_type": "execute_result"
    }
   ],
   "source": [
    "arr = arr.astype(\"float\")\n",
    "arr\n",
    "\n",
    "# np.float as parameter is depricated"
   ]
  },
  {
   "cell_type": "code",
   "execution_count": 4,
   "id": "2a801f22",
   "metadata": {},
   "outputs": [],
   "source": [
    "nums = np.arange(1, 10)"
   ]
  },
  {
   "cell_type": "code",
   "execution_count": 5,
   "id": "a1f25ba8",
   "metadata": {},
   "outputs": [
    {
     "data": {
      "text/plain": [
       "(9,)"
      ]
     },
     "execution_count": 5,
     "metadata": {},
     "output_type": "execute_result"
    }
   ],
   "source": [
    "nums.shape"
   ]
  },
  {
   "cell_type": "code",
   "execution_count": 10,
   "id": "c7ccf913",
   "metadata": {},
   "outputs": [
    {
     "data": {
      "text/plain": [
       "(1, 9)"
      ]
     },
     "execution_count": 10,
     "metadata": {},
     "output_type": "execute_result"
    }
   ],
   "source": [
    "nums = nums.reshape((1, 9))\n",
    "nums.shape"
   ]
  },
  {
   "cell_type": "code",
   "execution_count": 11,
   "id": "1faac29e",
   "metadata": {},
   "outputs": [
    {
     "data": {
      "text/plain": [
       "array([[1],\n",
       "       [2],\n",
       "       [3],\n",
       "       [4],\n",
       "       [5],\n",
       "       [6],\n",
       "       [7],\n",
       "       [8],\n",
       "       [9]])"
      ]
     },
     "execution_count": 11,
     "metadata": {},
     "output_type": "execute_result"
    }
   ],
   "source": [
    "nums.T"
   ]
  },
  {
   "cell_type": "code",
   "execution_count": 13,
   "id": "8c428be8",
   "metadata": {},
   "outputs": [],
   "source": [
    "arr2 = np.zeros((1, 10))"
   ]
  },
  {
   "cell_type": "code",
   "execution_count": 15,
   "id": "75c5a41d",
   "metadata": {},
   "outputs": [
    {
     "data": {
      "text/plain": [
       "array([[0., 0., 0., 0., 0., 0., 0., 0., 0., 0.]])"
      ]
     },
     "execution_count": 15,
     "metadata": {},
     "output_type": "execute_result"
    }
   ],
   "source": [
    "arr2"
   ]
  },
  {
   "cell_type": "code",
   "execution_count": 16,
   "id": "bbcfa8a3",
   "metadata": {},
   "outputs": [
    {
     "data": {
      "text/plain": [
       "array([0, 6])"
      ]
     },
     "execution_count": 16,
     "metadata": {},
     "output_type": "execute_result"
    }
   ],
   "source": [
    "ran = np.random.randint((1, 10))\n",
    "ran"
   ]
  },
  {
   "cell_type": "code",
   "execution_count": 18,
   "id": "762edc70",
   "metadata": {},
   "outputs": [
    {
     "data": {
      "text/plain": [
       "array([[4, 3, 7, 1],\n",
       "       [0, 1, 7, 6],\n",
       "       [9, 0, 5, 1]])"
      ]
     },
     "execution_count": 18,
     "metadata": {},
     "output_type": "execute_result"
    }
   ],
   "source": [
    "ran = np.random.randint(0, 10, (3, 4))\n",
    "ran"
   ]
  },
  {
   "cell_type": "code",
   "execution_count": 19,
   "id": "954bc6ca",
   "metadata": {},
   "outputs": [
    {
     "data": {
      "text/plain": [
       "(3, 4)"
      ]
     },
     "execution_count": 19,
     "metadata": {},
     "output_type": "execute_result"
    }
   ],
   "source": [
    "ran.shape"
   ]
  },
  {
   "cell_type": "code",
   "execution_count": 20,
   "id": "f0a777ee",
   "metadata": {},
   "outputs": [
    {
     "data": {
      "text/plain": [
       "7"
      ]
     },
     "execution_count": 20,
     "metadata": {},
     "output_type": "execute_result"
    }
   ],
   "source": [
    "ran[0, 2]"
   ]
  },
  {
   "cell_type": "code",
   "execution_count": 21,
   "id": "8712832d",
   "metadata": {},
   "outputs": [
    {
     "data": {
      "text/plain": [
       "array([[4, 3],\n",
       "       [0, 1]])"
      ]
     },
     "execution_count": 21,
     "metadata": {},
     "output_type": "execute_result"
    }
   ],
   "source": [
    "ran[:2, :2]"
   ]
  },
  {
   "cell_type": "code",
   "execution_count": 22,
   "id": "06dbcb14",
   "metadata": {},
   "outputs": [
    {
     "data": {
      "text/plain": [
       "array([11, 13, 15, 17])"
      ]
     },
     "execution_count": 22,
     "metadata": {},
     "output_type": "execute_result"
    }
   ],
   "source": [
    "arr1 = np.array([1, 2, 3, 4])\n",
    "arr2 = np.array([10, 11, 12, 13])\n",
    "\n",
    "arr1 + arr2"
   ]
  },
  {
   "cell_type": "code",
   "execution_count": 23,
   "id": "c87696c3",
   "metadata": {},
   "outputs": [
    {
     "data": {
      "text/plain": [
       "array([10, 22, 36, 52])"
      ]
     },
     "execution_count": 23,
     "metadata": {},
     "output_type": "execute_result"
    }
   ],
   "source": [
    "arr1 * arr2"
   ]
  },
  {
   "cell_type": "code",
   "execution_count": 24,
   "id": "4691e1a4",
   "metadata": {},
   "outputs": [
    {
     "data": {
      "text/plain": [
       "120"
      ]
     },
     "execution_count": 24,
     "metadata": {},
     "output_type": "execute_result"
    }
   ],
   "source": [
    "arr1.dot(arr2)    # matrix multiplication via dot"
   ]
  },
  {
   "cell_type": "code",
   "execution_count": 25,
   "id": "3fb8129b",
   "metadata": {},
   "outputs": [
    {
     "data": {
      "text/plain": [
       "array([ 1,  2,  6, 24], dtype=int32)"
      ]
     },
     "execution_count": 25,
     "metadata": {},
     "output_type": "execute_result"
    }
   ],
   "source": [
    "arr1.cumprod()"
   ]
  },
  {
   "cell_type": "code",
   "execution_count": 26,
   "id": "f469eba4",
   "metadata": {},
   "outputs": [
    {
     "data": {
      "text/plain": [
       "array([1, 0, 3, 2], dtype=int32)"
      ]
     },
     "execution_count": 26,
     "metadata": {},
     "output_type": "execute_result"
    }
   ],
   "source": [
    "arr2 = np.array([2, 1, 4, 3])\n",
    "arr2.argsort()\n",
    "\n",
    "# Provides indices of array if it was sorted"
   ]
  },
  {
   "cell_type": "code",
   "execution_count": 27,
   "id": "4465037b",
   "metadata": {},
   "outputs": [],
   "source": [
    "mat = np.random.randint(1, 11, (4, 4))"
   ]
  },
  {
   "cell_type": "code",
   "execution_count": 28,
   "id": "13fe9a4e",
   "metadata": {},
   "outputs": [
    {
     "data": {
      "text/plain": [
       "array([[ 8,  2, 10,  5],\n",
       "       [ 2,  1,  5,  5],\n",
       "       [ 7,  2,  1,  8],\n",
       "       [ 8,  4,  2,  9]])"
      ]
     },
     "execution_count": 28,
     "metadata": {},
     "output_type": "execute_result"
    }
   ],
   "source": [
    "mat"
   ]
  },
  {
   "cell_type": "code",
   "execution_count": 30,
   "id": "076a4022",
   "metadata": {},
   "outputs": [
    {
     "data": {
      "text/plain": [
       "79"
      ]
     },
     "execution_count": 30,
     "metadata": {},
     "output_type": "execute_result"
    }
   ],
   "source": [
    "mat.sum()"
   ]
  },
  {
   "cell_type": "code",
   "execution_count": 31,
   "id": "9ac1e56f",
   "metadata": {},
   "outputs": [
    {
     "data": {
      "text/plain": [
       "array([25,  9, 18, 27])"
      ]
     },
     "execution_count": 31,
     "metadata": {},
     "output_type": "execute_result"
    }
   ],
   "source": [
    "mat.sum(axis = 0)"
   ]
  },
  {
   "cell_type": "code",
   "execution_count": 33,
   "id": "dbf21401",
   "metadata": {},
   "outputs": [
    {
     "data": {
      "text/plain": [
       "array([25, 13, 18, 23])"
      ]
     },
     "execution_count": 33,
     "metadata": {},
     "output_type": "execute_result"
    }
   ],
   "source": [
    "mat.sum(axis = 1)"
   ]
  },
  {
   "cell_type": "markdown",
   "id": "3d706c3d",
   "metadata": {},
   "source": [
    "## Broadcasting"
   ]
  },
  {
   "cell_type": "code",
   "execution_count": 36,
   "id": "d6de7c33",
   "metadata": {},
   "outputs": [
    {
     "data": {
      "text/plain": [
       "array([[ 8,  2, 10,  5],\n",
       "       [ 2,  1,  5,  5],\n",
       "       [ 7,  2,  1,  8],\n",
       "       [ 8,  4,  2,  9]])"
      ]
     },
     "execution_count": 36,
     "metadata": {},
     "output_type": "execute_result"
    }
   ],
   "source": [
    "# numpy expands one dimension to suit a math. operation\n",
    "\n",
    "mat"
   ]
  },
  {
   "cell_type": "code",
   "execution_count": 37,
   "id": "5b81f7d3",
   "metadata": {},
   "outputs": [],
   "source": [
    "col_means = mat.mean(axis = 0)"
   ]
  },
  {
   "cell_type": "code",
   "execution_count": 38,
   "id": "cd2d904c",
   "metadata": {},
   "outputs": [
    {
     "data": {
      "text/plain": [
       "array([6.25, 2.25, 4.5 , 6.75])"
      ]
     },
     "execution_count": 38,
     "metadata": {},
     "output_type": "execute_result"
    }
   ],
   "source": [
    "col_means"
   ]
  },
  {
   "cell_type": "code",
   "execution_count": 39,
   "id": "e30ed0d7",
   "metadata": {},
   "outputs": [
    {
     "data": {
      "text/plain": [
       "array([[ 1.75, -0.25,  5.5 , -1.75],\n",
       "       [-4.25, -1.25,  0.5 , -1.75],\n",
       "       [ 0.75, -0.25, -3.5 ,  1.25],\n",
       "       [ 1.75,  1.75, -2.5 ,  2.25]])"
      ]
     },
     "execution_count": 39,
     "metadata": {},
     "output_type": "execute_result"
    }
   ],
   "source": [
    "mat - col_means"
   ]
  },
  {
   "cell_type": "code",
   "execution_count": 40,
   "id": "6f622ea8",
   "metadata": {},
   "outputs": [],
   "source": [
    "col_sds = mat.std(axis = 0)"
   ]
  },
  {
   "cell_type": "code",
   "execution_count": 41,
   "id": "728956cc",
   "metadata": {},
   "outputs": [],
   "source": [
    "z = (mat - col_means)/col_sds"
   ]
  },
  {
   "cell_type": "code",
   "execution_count": 42,
   "id": "1670104c",
   "metadata": {},
   "outputs": [
    {
     "data": {
      "text/plain": [
       "array([[ 0.70352647, -0.22941573,  1.57142857, -0.98019606],\n",
       "       [-1.70856429, -1.14707867,  0.14285714, -0.98019606],\n",
       "       [ 0.30151134, -0.22941573, -1.        ,  0.70014004],\n",
       "       [ 0.70352647,  1.60591014, -0.71428571,  1.26025208]])"
      ]
     },
     "execution_count": 42,
     "metadata": {},
     "output_type": "execute_result"
    }
   ],
   "source": [
    "z"
   ]
  },
  {
   "cell_type": "code",
   "execution_count": 43,
   "id": "ff21d7e0",
   "metadata": {},
   "outputs": [],
   "source": [
    "# iris = np.genfromtext(\"path of file which contains homogenous data\", delimiter = \",\")"
   ]
  },
  {
   "cell_type": "markdown",
   "id": "8c43d723",
   "metadata": {},
   "source": [
    "## Boolean indexing"
   ]
  },
  {
   "cell_type": "code",
   "execution_count": 44,
   "id": "4c26ba9e",
   "metadata": {},
   "outputs": [],
   "source": [
    "arr1 = np.random.randint(1, 10, 10)"
   ]
  },
  {
   "cell_type": "code",
   "execution_count": 45,
   "id": "3138b5a7",
   "metadata": {},
   "outputs": [
    {
     "data": {
      "text/plain": [
       "array([5, 4, 9, 6, 4, 9, 1, 3, 4, 9])"
      ]
     },
     "execution_count": 45,
     "metadata": {},
     "output_type": "execute_result"
    }
   ],
   "source": [
    "arr1"
   ]
  },
  {
   "cell_type": "code",
   "execution_count": 46,
   "id": "8736b0bd",
   "metadata": {},
   "outputs": [
    {
     "data": {
      "text/plain": [
       "array([False, False,  True, False, False,  True, False, False, False,\n",
       "        True])"
      ]
     },
     "execution_count": 46,
     "metadata": {},
     "output_type": "execute_result"
    }
   ],
   "source": [
    "arr1 > 6"
   ]
  },
  {
   "cell_type": "code",
   "execution_count": 47,
   "id": "db33213d",
   "metadata": {},
   "outputs": [],
   "source": [
    "data = dict(zip(arr1, arr1 > 5))"
   ]
  },
  {
   "cell_type": "code",
   "execution_count": 48,
   "id": "7c2b47c0",
   "metadata": {},
   "outputs": [
    {
     "data": {
      "text/plain": [
       "{5: False, 4: False, 9: True, 6: True, 1: False, 3: False}"
      ]
     },
     "execution_count": 48,
     "metadata": {},
     "output_type": "execute_result"
    }
   ],
   "source": [
    "data"
   ]
  },
  {
   "cell_type": "code",
   "execution_count": 50,
   "id": "ac15b218",
   "metadata": {},
   "outputs": [
    {
     "data": {
      "text/plain": [
       "array([9, 6, 9, 9])"
      ]
     },
     "execution_count": 50,
     "metadata": {},
     "output_type": "execute_result"
    }
   ],
   "source": [
    "arr1[arr1 > arr1.mean()]"
   ]
  },
  {
   "cell_type": "code",
   "execution_count": 51,
   "id": "d1ae4e33",
   "metadata": {},
   "outputs": [
    {
     "data": {
      "text/plain": [
       "(array([0, 1, 2, 3, 4, 5, 8, 9], dtype=int32),)"
      ]
     },
     "execution_count": 51,
     "metadata": {},
     "output_type": "execute_result"
    }
   ],
   "source": [
    "np.where(arr1 > 3)"
   ]
  },
  {
   "cell_type": "code",
   "execution_count": 52,
   "id": "fca74e48",
   "metadata": {},
   "outputs": [],
   "source": [
    "# numpy uses lists, pandas uses dict"
   ]
  },
  {
   "cell_type": "markdown",
   "id": "bb64a9ba",
   "metadata": {},
   "source": [
    "## Pandas"
   ]
  },
  {
   "cell_type": "code",
   "execution_count": 53,
   "id": "c979a819",
   "metadata": {},
   "outputs": [],
   "source": [
    "import pandas as pd"
   ]
  },
  {
   "cell_type": "code",
   "execution_count": 55,
   "id": "b8022833",
   "metadata": {},
   "outputs": [],
   "source": [
    "s1 = pd.Series([10, 20, 30, 40, 50])"
   ]
  },
  {
   "cell_type": "code",
   "execution_count": 57,
   "id": "e0e08363",
   "metadata": {},
   "outputs": [
    {
     "data": {
      "text/plain": [
       "(5,)"
      ]
     },
     "execution_count": 57,
     "metadata": {},
     "output_type": "execute_result"
    }
   ],
   "source": [
    "s1.shape"
   ]
  },
  {
   "cell_type": "code",
   "execution_count": 59,
   "id": "91eeb93d",
   "metadata": {},
   "outputs": [],
   "source": [
    "s2 = pd.Series({\"Kolkata\": 100, \"Ranchi\": 80, \"Patna\": 140})"
   ]
  },
  {
   "cell_type": "code",
   "execution_count": 60,
   "id": "43653461",
   "metadata": {},
   "outputs": [
    {
     "data": {
      "text/plain": [
       "Kolkata    100\n",
       "Ranchi      80\n",
       "Patna      140\n",
       "dtype: int64"
      ]
     },
     "execution_count": 60,
     "metadata": {},
     "output_type": "execute_result"
    }
   ],
   "source": [
    "s2"
   ]
  },
  {
   "cell_type": "code",
   "execution_count": 61,
   "id": "edd7853b",
   "metadata": {},
   "outputs": [
    {
     "data": {
      "text/plain": [
       "106.66666666666667"
      ]
     },
     "execution_count": 61,
     "metadata": {},
     "output_type": "execute_result"
    }
   ],
   "source": [
    "s2.mean()"
   ]
  },
  {
   "cell_type": "code",
   "execution_count": 64,
   "id": "1c0fa015",
   "metadata": {},
   "outputs": [],
   "source": [
    "# dataframe is a nested dict\n",
    "\n",
    "df1 = pd.DataFrame({\"Age\" : {\"Ram\": 34, \"Shyam\": 56}, \"ID\" : {\"Ram\": 3124, \"Shyam\": 3456}})"
   ]
  },
  {
   "cell_type": "code",
   "execution_count": 70,
   "id": "a4d596d1",
   "metadata": {},
   "outputs": [
    {
     "data": {
      "text/html": [
       "<div>\n",
       "<style scoped>\n",
       "    .dataframe tbody tr th:only-of-type {\n",
       "        vertical-align: middle;\n",
       "    }\n",
       "\n",
       "    .dataframe tbody tr th {\n",
       "        vertical-align: top;\n",
       "    }\n",
       "\n",
       "    .dataframe thead th {\n",
       "        text-align: right;\n",
       "    }\n",
       "</style>\n",
       "<table border=\"1\" class=\"dataframe\">\n",
       "  <thead>\n",
       "    <tr style=\"text-align: right;\">\n",
       "      <th></th>\n",
       "      <th>Age</th>\n",
       "      <th>ID</th>\n",
       "    </tr>\n",
       "  </thead>\n",
       "  <tbody>\n",
       "    <tr>\n",
       "      <th>Ram</th>\n",
       "      <td>34</td>\n",
       "      <td>3124</td>\n",
       "    </tr>\n",
       "    <tr>\n",
       "      <th>Shyam</th>\n",
       "      <td>56</td>\n",
       "      <td>3456</td>\n",
       "    </tr>\n",
       "  </tbody>\n",
       "</table>\n",
       "</div>"
      ],
      "text/plain": [
       "       Age    ID\n",
       "Ram     34  3124\n",
       "Shyam   56  3456"
      ]
     },
     "execution_count": 70,
     "metadata": {},
     "output_type": "execute_result"
    }
   ],
   "source": [
    "df1"
   ]
  },
  {
   "cell_type": "code",
   "execution_count": 71,
   "id": "79d2b12d",
   "metadata": {},
   "outputs": [
    {
     "data": {
      "text/plain": [
       "array([[  34, 3124],\n",
       "       [  56, 3456]], dtype=int64)"
      ]
     },
     "execution_count": 71,
     "metadata": {},
     "output_type": "execute_result"
    }
   ],
   "source": [
    "df1.values"
   ]
  },
  {
   "cell_type": "code",
   "execution_count": 72,
   "id": "0ea7367f",
   "metadata": {},
   "outputs": [
    {
     "data": {
      "text/plain": [
       "Index(['Age', 'ID'], dtype='object')"
      ]
     },
     "execution_count": 72,
     "metadata": {},
     "output_type": "execute_result"
    }
   ],
   "source": [
    "df1.columns"
   ]
  },
  {
   "cell_type": "code",
   "execution_count": 73,
   "id": "b2156a0a",
   "metadata": {},
   "outputs": [
    {
     "data": {
      "text/plain": [
       "Age      34\n",
       "ID     3124\n",
       "Name: Ram, dtype: int64"
      ]
     },
     "execution_count": 73,
     "metadata": {},
     "output_type": "execute_result"
    }
   ],
   "source": [
    "df1.iloc[0]"
   ]
  },
  {
   "cell_type": "code",
   "execution_count": 74,
   "id": "09ea5bb4",
   "metadata": {},
   "outputs": [
    {
     "data": {
      "text/plain": [
       "Age      56\n",
       "ID     3456\n",
       "Name: Shyam, dtype: int64"
      ]
     },
     "execution_count": 74,
     "metadata": {},
     "output_type": "execute_result"
    }
   ],
   "source": [
    "df1.iloc[1]"
   ]
  },
  {
   "cell_type": "code",
   "execution_count": 75,
   "id": "8f6e79d6",
   "metadata": {},
   "outputs": [
    {
     "data": {
      "text/plain": [
       "34"
      ]
     },
     "execution_count": 75,
     "metadata": {},
     "output_type": "execute_result"
    }
   ],
   "source": [
    "df1.loc[\"Ram\"][\"Age\"]"
   ]
  },
  {
   "cell_type": "markdown",
   "id": "c93e0996",
   "metadata": {},
   "source": [
    "## CSV"
   ]
  },
  {
   "cell_type": "code",
   "execution_count": 76,
   "id": "2985b27c",
   "metadata": {},
   "outputs": [
    {
     "ename": "AttributeError",
     "evalue": "module 'pandas' has no attribute 'readcsv'",
     "output_type": "error",
     "traceback": [
      "\u001b[1;31m---------------------------------------------------------------------------\u001b[0m",
      "\u001b[1;31mAttributeError\u001b[0m                            Traceback (most recent call last)",
      "\u001b[1;32mC:\\Users\\BIT~1.L1-\\AppData\\Local\\Temp/ipykernel_1092/875457614.py\u001b[0m in \u001b[0;36m<module>\u001b[1;34m\u001b[0m\n\u001b[1;32m----> 1\u001b[1;33m \u001b[0mhousing\u001b[0m \u001b[1;33m=\u001b[0m \u001b[0mpd\u001b[0m\u001b[1;33m.\u001b[0m\u001b[0mreadcsv\u001b[0m\u001b[1;33m(\u001b[0m\u001b[1;34m\"path\"\u001b[0m\u001b[1;33m,\u001b[0m \u001b[0mheader\u001b[0m \u001b[1;33m=\u001b[0m \u001b[1;36m0\u001b[0m\u001b[1;33m,\u001b[0m \u001b[0mdelimiter\u001b[0m \u001b[1;33m=\u001b[0m \u001b[1;34m\",\"\u001b[0m\u001b[1;33m)\u001b[0m\u001b[1;33m\u001b[0m\u001b[1;33m\u001b[0m\u001b[0m\n\u001b[0m",
      "\u001b[1;32mC:\\ProgramData\\Anaconda3\\lib\\site-packages\\pandas\\__init__.py\u001b[0m in \u001b[0;36m__getattr__\u001b[1;34m(name)\u001b[0m\n\u001b[0;32m    242\u001b[0m         \u001b[1;32mreturn\u001b[0m \u001b[0m_SparseArray\u001b[0m\u001b[1;33m\u001b[0m\u001b[1;33m\u001b[0m\u001b[0m\n\u001b[0;32m    243\u001b[0m \u001b[1;33m\u001b[0m\u001b[0m\n\u001b[1;32m--> 244\u001b[1;33m     \u001b[1;32mraise\u001b[0m \u001b[0mAttributeError\u001b[0m\u001b[1;33m(\u001b[0m\u001b[1;34mf\"module 'pandas' has no attribute '{name}'\"\u001b[0m\u001b[1;33m)\u001b[0m\u001b[1;33m\u001b[0m\u001b[1;33m\u001b[0m\u001b[0m\n\u001b[0m\u001b[0;32m    245\u001b[0m \u001b[1;33m\u001b[0m\u001b[0m\n\u001b[0;32m    246\u001b[0m \u001b[1;33m\u001b[0m\u001b[0m\n",
      "\u001b[1;31mAttributeError\u001b[0m: module 'pandas' has no attribute 'readcsv'"
     ]
    }
   ],
   "source": [
    "housing = pd.readcsv(\"path\", header = 0, delimiter = \",\")"
   ]
  },
  {
   "cell_type": "code",
   "execution_count": null,
   "id": "215d5b46",
   "metadata": {},
   "outputs": [],
   "source": []
  }
 ],
 "metadata": {
  "kernelspec": {
   "display_name": "Python 3 (ipykernel)",
   "language": "python",
   "name": "python3"
  },
  "language_info": {
   "codemirror_mode": {
    "name": "ipython",
    "version": 3
   },
   "file_extension": ".py",
   "mimetype": "text/x-python",
   "name": "python",
   "nbconvert_exporter": "python",
   "pygments_lexer": "ipython3",
   "version": "3.9.7"
  }
 },
 "nbformat": 4,
 "nbformat_minor": 5
}

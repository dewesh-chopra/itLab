{
 "cells": [
  {
   "cell_type": "markdown",
   "id": "654c34ff",
   "metadata": {},
   "source": [
    "Functions in python"
   ]
  },
  {
   "cell_type": "code",
   "execution_count": 1,
   "id": "f81d8585",
   "metadata": {},
   "outputs": [],
   "source": [
    "def add(a, b):\n",
    "    return a+b"
   ]
  },
  {
   "cell_type": "code",
   "execution_count": 2,
   "id": "67170a30",
   "metadata": {},
   "outputs": [
    {
     "data": {
      "text/plain": [
       "30"
      ]
     },
     "execution_count": 2,
     "metadata": {},
     "output_type": "execute_result"
    }
   ],
   "source": [
    "add(10, 20)"
   ]
  },
  {
   "cell_type": "code",
   "execution_count": 3,
   "id": "275d70d8",
   "metadata": {},
   "outputs": [],
   "source": [
    "def add(*args):\n",
    "    return args[0]"
   ]
  },
  {
   "cell_type": "code",
   "execution_count": 4,
   "id": "ae84d66d",
   "metadata": {},
   "outputs": [
    {
     "data": {
      "text/plain": [
       "2"
      ]
     },
     "execution_count": 4,
     "metadata": {},
     "output_type": "execute_result"
    }
   ],
   "source": [
    "add(2, 3)"
   ]
  },
  {
   "cell_type": "code",
   "execution_count": 5,
   "id": "7adbf1aa",
   "metadata": {},
   "outputs": [
    {
     "data": {
      "text/plain": [
       "-10"
      ]
     },
     "execution_count": 5,
     "metadata": {},
     "output_type": "execute_result"
    }
   ],
   "source": [
    "add(-10, 20, 30, -40)"
   ]
  },
  {
   "cell_type": "code",
   "execution_count": 6,
   "id": "1c40e680",
   "metadata": {},
   "outputs": [],
   "source": [
    "def add(a=12, b=6):\n",
    "    return a+b"
   ]
  },
  {
   "cell_type": "code",
   "execution_count": 7,
   "id": "ff66293b",
   "metadata": {},
   "outputs": [
    {
     "data": {
      "text/plain": [
       "11"
      ]
     },
     "execution_count": 7,
     "metadata": {},
     "output_type": "execute_result"
    }
   ],
   "source": [
    "add(5)"
   ]
  },
  {
   "cell_type": "code",
   "execution_count": 8,
   "id": "bff1bf76",
   "metadata": {},
   "outputs": [],
   "source": [
    "# keyword arguments\n",
    "\n",
    "def area(height=12, base=6):\n",
    "    return 0.5 * height * base"
   ]
  },
  {
   "cell_type": "code",
   "execution_count": 9,
   "id": "69ba1a79",
   "metadata": {},
   "outputs": [
    {
     "data": {
      "text/plain": [
       "10.0"
      ]
     },
     "execution_count": 9,
     "metadata": {},
     "output_type": "execute_result"
    }
   ],
   "source": [
    "area(5, 4)"
   ]
  },
  {
   "cell_type": "code",
   "execution_count": 10,
   "id": "dea94c59",
   "metadata": {},
   "outputs": [
    {
     "data": {
      "text/plain": [
       "10.0"
      ]
     },
     "execution_count": 10,
     "metadata": {},
     "output_type": "execute_result"
    }
   ],
   "source": [
    "area(base=4, height=5)"
   ]
  },
  {
   "cell_type": "code",
   "execution_count": 11,
   "id": "8a27ccef",
   "metadata": {},
   "outputs": [
    {
     "data": {
      "text/plain": [
       "dict"
      ]
     },
     "execution_count": 11,
     "metadata": {},
     "output_type": "execute_result"
    }
   ],
   "source": [
    "# for an unknown number of arguments\n",
    "def volume(**kwargs):\n",
    "    return type(kwargs)\n",
    "\n",
    "volume(length=10, breadth=20, height=15)"
   ]
  },
  {
   "cell_type": "code",
   "execution_count": 12,
   "id": "563c134d",
   "metadata": {},
   "outputs": [
    {
     "data": {
      "text/plain": [
       "3000"
      ]
     },
     "execution_count": 12,
     "metadata": {},
     "output_type": "execute_result"
    }
   ],
   "source": [
    "# for an unknown number of arguments\n",
    "def volume(**kwargs):\n",
    "    return kwargs['length'] * kwargs['breadth'] * kwargs['height']\n",
    "\n",
    "volume(breadth=20, height=15, length=10)"
   ]
  },
  {
   "cell_type": "code",
   "execution_count": 14,
   "id": "8ad93f4c",
   "metadata": {},
   "outputs": [
    {
     "data": {
      "text/plain": [
       "35"
      ]
     },
     "execution_count": 14,
     "metadata": {},
     "output_type": "execute_result"
    }
   ],
   "source": [
    "def myfunc(*args, **kwargs):\n",
    "    return args[0] + args[1] + kwargs['val']\n",
    "\n",
    "myfunc(10, 20, val=5)"
   ]
  },
  {
   "cell_type": "markdown",
   "id": "7ced973b",
   "metadata": {},
   "source": [
    "Using map and filter"
   ]
  },
  {
   "cell_type": "code",
   "execution_count": 17,
   "id": "4626fbbc",
   "metadata": {},
   "outputs": [],
   "source": [
    "output = list(map(lambda x: x**2, range(9)))\n",
    "\n",
    "# map by default gives an iterable"
   ]
  },
  {
   "cell_type": "code",
   "execution_count": 18,
   "id": "f6c0ce2d",
   "metadata": {},
   "outputs": [
    {
     "data": {
      "text/plain": [
       "[0, 1, 4, 9, 16, 25, 36, 49, 64]"
      ]
     },
     "execution_count": 18,
     "metadata": {},
     "output_type": "execute_result"
    }
   ],
   "source": [
    "output"
   ]
  },
  {
   "cell_type": "code",
   "execution_count": 19,
   "id": "72206cb5",
   "metadata": {},
   "outputs": [],
   "source": [
    "# same as\n",
    "\n",
    "output2 = [x**2 for x in range(9)]"
   ]
  },
  {
   "cell_type": "code",
   "execution_count": 20,
   "id": "1ca67e88",
   "metadata": {},
   "outputs": [
    {
     "data": {
      "text/plain": [
       "[0, 1, 4, 9, 16, 25, 36, 49, 64]"
      ]
     },
     "execution_count": 20,
     "metadata": {},
     "output_type": "execute_result"
    }
   ],
   "source": [
    "output2"
   ]
  },
  {
   "cell_type": "code",
   "execution_count": 22,
   "id": "9cafec72",
   "metadata": {},
   "outputs": [
    {
     "data": {
      "text/plain": [
       "[0, 1, 2, 3, 4, 5, 6, 7, 8]"
      ]
     },
     "execution_count": 22,
     "metadata": {},
     "output_type": "execute_result"
    }
   ],
   "source": [
    "def show(x):\n",
    "    return x\n",
    "\n",
    "output3 = list(map(show, range(9)))\n",
    "output3"
   ]
  },
  {
   "cell_type": "code",
   "execution_count": 23,
   "id": "409d1660",
   "metadata": {},
   "outputs": [],
   "source": [
    "# same3 as map, has a function  and then an iterable, but the fuvction is a boolean function\n",
    "output = list(filter(lambda x: x>5, range(9)))"
   ]
  },
  {
   "cell_type": "code",
   "execution_count": 24,
   "id": "903864e6",
   "metadata": {},
   "outputs": [
    {
     "data": {
      "text/plain": [
       "[6, 7, 8]"
      ]
     },
     "execution_count": 24,
     "metadata": {},
     "output_type": "execute_result"
    }
   ],
   "source": [
    "output"
   ]
  },
  {
   "cell_type": "code",
   "execution_count": 25,
   "id": "2c5f3f0d",
   "metadata": {},
   "outputs": [],
   "source": [
    "def isgreater(x):\n",
    "    return x>5\n",
    "\n",
    "output = list(filter(isgreater, range(9)))"
   ]
  },
  {
   "cell_type": "code",
   "execution_count": 26,
   "id": "c129ba29",
   "metadata": {},
   "outputs": [
    {
     "data": {
      "text/plain": [
       "[6, 7, 8]"
      ]
     },
     "execution_count": 26,
     "metadata": {},
     "output_type": "execute_result"
    }
   ],
   "source": [
    "output"
   ]
  },
  {
   "cell_type": "code",
   "execution_count": null,
   "id": "50747de6",
   "metadata": {},
   "outputs": [],
   "source": []
  }
 ],
 "metadata": {
  "kernelspec": {
   "display_name": "Python 3 (ipykernel)",
   "language": "python",
   "name": "python3"
  },
  "language_info": {
   "codemirror_mode": {
    "name": "ipython",
    "version": 3
   },
   "file_extension": ".py",
   "mimetype": "text/x-python",
   "name": "python",
   "nbconvert_exporter": "python",
   "pygments_lexer": "ipython3",
   "version": "3.9.7"
  }
 },
 "nbformat": 4,
 "nbformat_minor": 5
}
